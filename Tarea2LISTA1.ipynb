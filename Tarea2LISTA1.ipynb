{
 "cells": [
  {
   "cell_type": "code",
   "execution_count": 1,
   "id": "e816f11c",
   "metadata": {},
   "outputs": [],
   "source": [
    "from numpy import *\n"
   ]
  },
  {
   "cell_type": "code",
   "execution_count": 1,
   "id": "1f45f020",
   "metadata": {
    "scrolled": true
   },
   "outputs": [
    {
     "name": "stdout",
     "output_type": "stream",
     "text": [
      "El salario mensual es: 1000000\n",
      "Porcentaje del salario mensual que voy a ahorrar (decimal): 0.2\n",
      "Costo del auto de mis sueños: 20000000\n",
      "Numero de meses que debo ahorrar: 20\n"
     ]
    }
   ],
   "source": [
    "def meses_pie(salario_mensual,proporcion_ahorrada,costo_auto):\n",
    "    i=0\n",
    "    ahorro_actual=0\n",
    "    proporcion_pago_inicial=(0.2*costo_auto)\n",
    "    while(ahorro_actual<proporcion_pago_inicial):\n",
    "        ahorro_actual=ahorro_actual+proporcion_ahorrada*salario_mensual\n",
    "        i+=1\n",
    "    print(\"El salario mensual es: \"+str(salario_mensual))\n",
    "    print(\"Porcentaje del salario mensual que voy a ahorrar (decimal): \"+str(proporcion_ahorrada))\n",
    "    print(\"Costo del auto de mis sueños: \"+str(costo_auto))\n",
    "    print(\"Numero de meses que debo ahorrar: \"+str(i))\n",
    "\n",
    "meses_pie(1000000,0.2,20000000)"
   ]
  },
  {
   "cell_type": "code",
   "execution_count": 2,
   "id": "f5ef33cc",
   "metadata": {},
   "outputs": [
    {
     "name": "stdout",
     "output_type": "stream",
     "text": [
      "El salario mensual es: 1000000\n",
      "Porcentaje del salario mensual que voy a ahorrar (decimal): 0.2\n",
      "Costo del auto de mis sueños: 20000000\n",
      "Numero de meses que debo ahorrar: 12\n"
     ]
    }
   ],
   "source": [
    "def ahorro_auto_inv(salario_mensual,proporcion_ahorrada,costo_auto):\n",
    "    i=0\n",
    "    ahorro_actual=0\n",
    "    proporcion_pago_inicial=(0.2*costo_auto)\n",
    "    r=0.1\n",
    "    \n",
    "    while(ahorro_actual<proporcion_pago_inicial):\n",
    "        inversion=r*ahorro_actual\n",
    "        ahorro_actual=ahorro_actual+proporcion_ahorrada*salario_mensual+inversion\n",
    "        i+=1\n",
    "     \n",
    "    \n",
    "    print(\"El salario mensual es: \"+str(salario_mensual))\n",
    "    print(\"Porcentaje del salario mensual que voy a ahorrar (decimal): \"+str(proporcion_ahorrada))\n",
    "    print(\"Costo del auto de mis sueños: \"+str(costo_auto))\n",
    "    print(\"Numero de meses que debo ahorrar: \"+str(i))\n",
    "    \n",
    "\n",
    "ahorro_auto_inv(1000000,0.2,20000000)"
   ]
  },
  {
   "cell_type": "code",
   "execution_count": 3,
   "id": "62621242",
   "metadata": {},
   "outputs": [
    {
     "name": "stdout",
     "output_type": "stream",
     "text": [
      "\n",
      "\n",
      "\n",
      "\n",
      "\n",
      "\n",
      "\n",
      "\n",
      "\n",
      "\n",
      "El salario mensual es: 1500000.0\n",
      "Porcentaje del salario mensual que voy a ahorrar (decimal): 0.2\n",
      "Costo del auto de mis sueños: 20000000\n",
      "Numero de meses que debo ahorrar: 11\n"
     ]
    }
   ],
   "source": [
    "def ahorro_auto_aum(salario_mensual,proporcion_ahorrada,costo_auto,proporcion_aumento_salario):\n",
    "    i=0\n",
    "    ahorro_actual=0\n",
    "    proporcion_pago_inicial=(0.2*costo_auto)\n",
    "    r=0.1\n",
    "    \n",
    "    while(ahorro_actual<proporcion_pago_inicial):\n",
    "        if(i%6==0 and i != 0):\n",
    "            salario_mensual=proporcion_aumento_salario*salario_mensual\n",
    "            inversion=r*ahorro_actual\n",
    "            ahorro_actual=ahorro_actual+proporcion_ahorrada*salario_mensual+inversion\n",
    "            i+=1\n",
    "            \n",
    "        else:\n",
    "            inversion=r*ahorro_actual\n",
    "            ahorro_actual=ahorro_actual+proporcion_ahorrada*salario_mensual+inversion\n",
    "            print()\n",
    "            i+=1\n",
    "     \n",
    "    \n",
    "    print(\"El salario mensual es: \"+str(salario_mensual))\n",
    "    print(\"Porcentaje del salario mensual que voy a ahorrar (decimal): \"+str(proporcion_ahorrada))\n",
    "    print(\"Costo del auto de mis sueños: \"+str(costo_auto))\n",
    "    print(\"Numero de meses que debo ahorrar: \"+str(i))\n",
    "    \n",
    "\n",
    "ahorro_auto_aum(1000000,0.2,20000000,1.5)"
   ]
  }
 ],
 "metadata": {
  "kernelspec": {
   "display_name": "Python 3 (ipykernel)",
   "language": "python",
   "name": "python3"
  },
  "language_info": {
   "codemirror_mode": {
    "name": "ipython",
    "version": 3
   },
   "file_extension": ".py",
   "mimetype": "text/x-python",
   "name": "python",
   "nbconvert_exporter": "python",
   "pygments_lexer": "ipython3",
   "version": "3.10.9"
  }
 },
 "nbformat": 4,
 "nbformat_minor": 5
}
